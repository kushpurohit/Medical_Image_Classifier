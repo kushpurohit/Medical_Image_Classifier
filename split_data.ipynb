{
 "cells": [
  {
   "cell_type": "code",
   "execution_count": 2,
   "id": "b2b6c99e",
   "metadata": {},
   "outputs": [],
   "source": [
    "import json\n",
    "import os\n",
    "import shutil, sys                                                                                                                  "
   ]
  },
  {
   "cell_type": "code",
   "execution_count": 30,
   "id": "5fdd38fd",
   "metadata": {},
   "outputs": [
    {
     "name": "stdout",
     "output_type": "stream",
     "text": [
      "C:\\Users\\Kush\\Downloads\\biofors_images\\biofors_images\\3\n"
     ]
    },
    {
     "ename": "KeyError",
     "evalue": "'3'",
     "output_type": "error",
     "traceback": [
      "\u001b[1;31m---------------------------------------------------------------------------\u001b[0m",
      "\u001b[1;31mKeyError\u001b[0m                                  Traceback (most recent call last)",
      "Cell \u001b[1;32mIn[30], line 41\u001b[0m\n\u001b[0;32m     38\u001b[0m image_dir \u001b[38;5;241m=\u001b[39m \u001b[38;5;124mr\u001b[39m\u001b[38;5;124m\"\u001b[39m\u001b[38;5;124mC:\u001b[39m\u001b[38;5;124m\\\u001b[39m\u001b[38;5;124mUsers\u001b[39m\u001b[38;5;124m\\\u001b[39m\u001b[38;5;124mKush\u001b[39m\u001b[38;5;124m\\\u001b[39m\u001b[38;5;124mDownloads\u001b[39m\u001b[38;5;124m\\\u001b[39m\u001b[38;5;124mbiofors_images\u001b[39m\u001b[38;5;124m\\\u001b[39m\u001b[38;5;124mbiofors_images\u001b[39m\u001b[38;5;124m\"\u001b[39m\n\u001b[0;32m     39\u001b[0m output_dir \u001b[38;5;241m=\u001b[39m \u001b[38;5;124mr\u001b[39m\u001b[38;5;124m\"\u001b[39m\u001b[38;5;124mC:\u001b[39m\u001b[38;5;124m\\\u001b[39m\u001b[38;5;124mUsers\u001b[39m\u001b[38;5;124m\\\u001b[39m\u001b[38;5;124mKush\u001b[39m\u001b[38;5;124m\\\u001b[39m\u001b[38;5;124mMineD\u001b[39m\u001b[38;5;124m\\\u001b[39m\u001b[38;5;124mdata\u001b[39m\u001b[38;5;124m\\\u001b[39m\u001b[38;5;124mtest\u001b[39m\u001b[38;5;124m\"\u001b[39m\n\u001b[1;32m---> 41\u001b[0m \u001b[43morganize_images_by_label\u001b[49m\u001b[43m(\u001b[49m\u001b[43mjson_file\u001b[49m\u001b[43m,\u001b[49m\u001b[43m \u001b[49m\u001b[43mimage_dir\u001b[49m\u001b[43m,\u001b[49m\u001b[43m \u001b[49m\u001b[43moutput_dir\u001b[49m\u001b[43m)\u001b[49m\n\u001b[0;32m     43\u001b[0m \u001b[38;5;28mprint\u001b[39m(\u001b[38;5;124m\"\u001b[39m\u001b[38;5;124mImage organization completed.\u001b[39m\u001b[38;5;124m\"\u001b[39m)\n",
      "Cell \u001b[1;32mIn[30], line 23\u001b[0m, in \u001b[0;36morganize_images_by_label\u001b[1;34m(json_file, image_dir, output_dir)\u001b[0m\n\u001b[0;32m     20\u001b[0m   image_name \u001b[38;5;241m+\u001b[39m\u001b[38;5;241m=\u001b[39m \u001b[38;5;124m\"\u001b[39m\u001b[38;5;124m.png\u001b[39m\u001b[38;5;124m\"\u001b[39m\n\u001b[0;32m     22\u001b[0m \u001b[38;5;66;03m# Check if image name exists in the JSON data\u001b[39;00m\n\u001b[1;32m---> 23\u001b[0m   \u001b[38;5;28;01mif\u001b[39;00m image_name \u001b[38;5;129;01min\u001b[39;00m \u001b[43mdata\u001b[49m\u001b[43m[\u001b[49m\u001b[38;5;28;43mstr\u001b[39;49m\u001b[43m(\u001b[49m\u001b[43msubfolder\u001b[49m\u001b[43m)\u001b[49m\u001b[43m]\u001b[49m:\n\u001b[0;32m     24\u001b[0m       label \u001b[38;5;241m=\u001b[39m data[\u001b[38;5;28mstr\u001b[39m(subfolder)][image_name]\n\u001b[0;32m     26\u001b[0m       \u001b[38;5;66;03m# Validate label and move image to the corresponding folder\u001b[39;00m\n",
      "\u001b[1;31mKeyError\u001b[0m: '3'"
     ]
    }
   ],
   "source": [
    "def organize_images_by_label(json_file, image_dir, output_dir):\n",
    "  # Define desired labels\n",
    "    desired_labels = [\"Microscopy\", \"BG\", \"FACS\", \"Macroscopy\"]\n",
    "\n",
    "  # Load the JSON data\n",
    "    with open(json_file, \"r\") as f:\n",
    "        data = json.load(f)\n",
    "\n",
    "  # Create output folders (if they don't exist)\n",
    "    for label in desired_labels:\n",
    "        os.makedirs(os.path.join(output_dir, label), exist_ok=True)\n",
    "\n",
    "  # Process each image based on its label\n",
    "    for subfolder in range(3,1031):\n",
    "        subfolder_path = os.path.join(image_dir, str(subfolder))\n",
    "        print(subfolder_path)\n",
    "        for filename in os.listdir(subfolder_path):\n",
    "            image_path = os.path.join(subfolder_path, filename)\n",
    "            image_name = os.path.splitext(filename)[0]  # Extract filename without extension\n",
    "            image_name += \".png\"\n",
    "\n",
    "          # Check if image name exists in the JSON data\n",
    "            if image_name in data[str(subfolder)]:\n",
    "                label = data[str(subfolder)][image_name]\n",
    "\n",
    "                # Validate label and move image to the corresponding folder\n",
    "                if label in desired_labels:\n",
    "                    new_path = os.path.join(output_dir, label, filename)\n",
    "                    os.makedirs(os.path.dirname(new_path), exist_ok=True)  # Create parent directories if needed\n",
    "                    shutil.move(image_path, new_path)\n",
    "                else:\n",
    "                    print(f\"Warning: Label '{label}' for image '{image_name}' not found in desired labels.\")\n",
    "            else:\n",
    "                print(f\"Warning: Image name '{image_name}' not found in JSON data.\")\n",
    "\n",
    "# Example usage\n",
    "json_file = r\"C:\\Users\\Kush\\BioFors-main\\BioFors-main\\annotation_files\\classification.json\"\n",
    "image_dir = r\"C:\\Users\\Kush\\Downloads\\biofors_images\\biofors_images\"\n",
    "output_dir = r\"C:\\Users\\Kush\\MineD\\data\\test\"\n",
    "\n",
    "organize_images_by_label(json_file, image_dir, output_dir)\n",
    "\n",
    "print(\"Image organization completed.\")\n"
   ]
  },
  {
   "cell_type": "code",
   "execution_count": null,
   "id": "7f85143a",
   "metadata": {},
   "outputs": [],
   "source": []
  }
 ],
 "metadata": {
  "kernelspec": {
   "display_name": "Python 3 (ipykernel)",
   "language": "python",
   "name": "python3"
  },
  "language_info": {
   "codemirror_mode": {
    "name": "ipython",
    "version": 3
   },
   "file_extension": ".py",
   "mimetype": "text/x-python",
   "name": "python",
   "nbconvert_exporter": "python",
   "pygments_lexer": "ipython3",
   "version": "3.11.7"
  }
 },
 "nbformat": 4,
 "nbformat_minor": 5
}
